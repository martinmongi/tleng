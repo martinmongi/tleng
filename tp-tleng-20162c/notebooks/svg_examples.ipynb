{
 "cells": [
  {
   "cell_type": "code",
   "execution_count": 1,
   "metadata": {
    "collapsed": false
   },
   "outputs": [
    {
     "data": {
      "image/svg+xml": [
       "<svg viewBox=\"0 0 100 100\" xmlns=\"http://www.w3.org/2000/svg\">\n",
       "  <path d=\"M30,1h40l29,29v40l-29,29h-40l-29-29v-40z\" fill=\"none\" stroke=\"#000\"/> \n",
       "  <path d=\"M31,3h38l28,28v38l-28,28h-38l-28-28v-38z\" fill=\"#a23\"/> \n",
       "  <text fill=\"#FFF\" font-size=\"48\" text-anchor=\"middle\" x=\"50\" y=\"68\"><![CDATA[410]]></text>\n",
       "</svg>"
      ],
      "text/plain": [
       "<IPython.core.display.SVG object>"
      ]
     },
     "execution_count": 1,
     "metadata": {},
     "output_type": "execute_result"
    }
   ],
   "source": [
    "from IPython.display import SVG, display\n",
    "\n",
    "svg = \"\"\"\n",
    "<svg xmlns=\"http://www.w3.org/2000/svg\" viewBox=\"0 0 100 100\">\n",
    "  <path d=\"M30,1h40l29,29v40l-29,29h-40l-29-29v-40z\" stroke=\"#000\" fill=\"none\"/> \n",
    "  <path d=\"M31,3h38l28,28v38l-28,28h-38l-28-28v-38z\" fill=\"#a23\"/> \n",
    "  <text x=\"50\" y=\"68\" font-size=\"48\" fill=\"#FFF\" text-anchor=\"middle\"><![CDATA[410]]></text>\n",
    "</svg>\n",
    "\"\"\"\n",
    "\n",
    "SVG(svg)"
   ]
  },
  {
   "cell_type": "code",
   "execution_count": 2,
   "metadata": {
    "collapsed": false
   },
   "outputs": [
    {
     "data": {
      "image/svg+xml": [
       "<svg xmlns=\"http://www.w3.org/2000/svg\" xmlns:xlink=\"http://www.w3.org/1999/xlink\">\n",
       "  <svg x=\"0\">\n",
       "    <rect height=\"150\" style=\"stroke:#ff0000; fill: #0000ff\" width=\"100\" x=\"10\" y=\"10\"/>\n",
       "  </svg>\n",
       "  <svg x=\"200\">\n",
       "    <rect height=\"100\" style=\"stroke:#009900; fill: #00cc00\" width=\"100\" x=\"10\" y=\"10\"/>\n",
       "  </svg>\n",
       "</svg>"
      ],
      "text/plain": [
       "<IPython.core.display.SVG object>"
      ]
     },
     "execution_count": 2,
     "metadata": {},
     "output_type": "execute_result"
    }
   ],
   "source": [
    "SVG(\"\"\"\n",
    "<svg xmlns=\"http://www.w3.org/2000/svg\"\n",
    "  xmlns:xlink=\"http://www.w3.org/1999/xlink\">\n",
    "  <svg x=\"0\">\n",
    "    <rect x=\"10\" y=\"10\" height=\"150\" width=\"100\"\n",
    "        style=\"stroke:#ff0000; fill: #0000ff\"/>\n",
    "  </svg>\n",
    "  <svg x=\"200\">\n",
    "    <rect x=\"10\" y=\"10\" height=\"100\" width=\"100\"\n",
    "        style=\"stroke:#009900; fill: #00cc00\"/>\n",
    "  </svg>\n",
    "</svg>\n",
    "\"\"\")"
   ]
  },
  {
   "cell_type": "code",
   "execution_count": 3,
   "metadata": {
    "collapsed": false
   },
   "outputs": [
    {
     "data": {
      "image/svg+xml": [
       "<svg height=\"200\" width=\"200\">\n",
       "    <rect height=\"200\" style=\"stroke:blue; fill: black\" width=\"200\" x=\"0\" y=\"0\"/>\n",
       "    <rect height=\"100\" style=\"fill: white\" width=\"100\" x=\"50\" y=\"50\"/> \n",
       "</svg>"
      ],
      "text/plain": [
       "<IPython.core.display.SVG object>"
      ]
     },
     "execution_count": 3,
     "metadata": {},
     "output_type": "execute_result"
    }
   ],
   "source": [
    "SVG(\"\"\"\n",
    "<svg width=\"200\" height=\"200\">\n",
    "    <rect x=\"0\" y=\"0\" height=\"200\" width=\"200\" style=\"stroke:blue; fill: black\"/>\n",
    "    <rect x=\"50\" y=\"50\" height=\"100\" width=\"100\" style=\"fill: white\"/> \n",
    "</svg>\n",
    "\"\"\")"
   ]
  },
  {
   "cell_type": "code",
   "execution_count": 4,
   "metadata": {
    "collapsed": false
   },
   "outputs": [
    {
     "data": {
      "image/svg+xml": [
       "<svg height=\"200\" width=\"200\">\n",
       "    <rect height=\"200\" style=\"stroke:blue; fill: black\" width=\"200\" x=\"0\" y=\"0\"/>\n",
       "    \n",
       "    <svg x=\"50\" y=\"50\">\n",
       "      <rect height=\"100\" style=\"fill: white\" width=\"100\"/> \n",
       "    </svg>\n",
       "</svg>"
      ],
      "text/plain": [
       "<IPython.core.display.SVG object>"
      ]
     },
     "execution_count": 4,
     "metadata": {},
     "output_type": "execute_result"
    }
   ],
   "source": [
    "SVG(\"\"\"\n",
    "<svg width=\"200\" height=\"200\">\n",
    "    <rect x=\"0\" y=\"0\" height=\"200\" width=\"200\"\n",
    "        style=\"stroke:blue; fill: black\"/>\n",
    "    \n",
    "    <svg x=\"50\" y=\"50\">\n",
    "      <rect height=\"100\" width=\"100\" style=\"fill: white\"/> \n",
    "    </svg>\n",
    "</svg>\n",
    "\"\"\")"
   ]
  },
  {
   "cell_type": "code",
   "execution_count": null,
   "metadata": {
    "collapsed": true
   },
   "outputs": [],
   "source": []
  }
 ],
 "metadata": {
  "kernelspec": {
   "display_name": "Python 2",
   "language": "python",
   "name": "python2"
  },
  "language_info": {
   "codemirror_mode": {
    "name": "ipython",
    "version": 2
   },
   "file_extension": ".py",
   "mimetype": "text/x-python",
   "name": "python",
   "nbconvert_exporter": "python",
   "pygments_lexer": "ipython2",
   "version": "2.7.6"
  }
 },
 "nbformat": 4,
 "nbformat_minor": 0
}
