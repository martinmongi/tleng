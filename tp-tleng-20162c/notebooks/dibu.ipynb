{
 "cells": [
  {
   "cell_type": "code",
   "execution_count": 8,
   "metadata": {
    "collapsed": false
   },
   "outputs": [
    {
     "name": "stdout",
     "output_type": "stream",
     "text": [
      "The autoreload extension is already loaded. To reload it, use:\n",
      "  %reload_ext autoreload\n"
     ]
    }
   ],
   "source": [
    "%load_ext autoreload\n",
    "%autoreload 2\n",
    "\n",
    "import sys\n",
    "sys.path.append(\"..\")\n",
    "\n",
    "from IPython.display import SVG, display\n",
    "from dibu import parse\n",
    "from xml.dom.minidom import parseString as xmlParse"
   ]
  },
  {
   "cell_type": "code",
   "execution_count": 21,
   "metadata": {
    "collapsed": false
   },
   "outputs": [
    {
     "name": "stdout",
     "output_type": "stream",
     "text": [
      "<?xml version=\"1.0\" ?>\n",
      "<svg baseProfile=\"full\" height=\"200\" version=\"1.1\" width=\"200\" xmlns=\"http://www.w3.org/2000/svg\" xmlns:ev=\"http://www.w3.org/2001/xml-events\" xmlns:xlink=\"http://www.w3.org/1999/xlink\">\n",
      "\t<rect height=\"50\" width=\"50\" x=\"150\" y=\"150\"/>\n",
      "\t<rect height=\"50\" width=\"50\" x=\"50\" y=\"150\"/>\n",
      "\t<rect height=\"50\" width=\"50\" x=\"100\" y=\"100\"/>\n",
      "\t<rect height=\"50\" width=\"50\" x=\"0\" y=\"100\"/>\n",
      "\t<rect height=\"50\" width=\"50\" x=\"150\" y=\"50\"/>\n",
      "\t<rect height=\"50\" width=\"50\" x=\"50\" y=\"50\"/>\n",
      "\t<rect height=\"50\" width=\"50\" x=\"100\" y=\"0\"/>\n",
      "\t<rect fill=\"red\" height=\"50\" width=\"50\" x=\"0\" y=\"0\"/>\n",
      "</svg>\n",
      "\n"
     ]
    },
    {
     "data": {
      "image/svg+xml": [
       "<svg baseProfile=\"full\" height=\"200\" version=\"1.1\" width=\"200\" xmlns=\"http://www.w3.org/2000/svg\" xmlns:ev=\"http://www.w3.org/2001/xml-events\" xmlns:xlink=\"http://www.w3.org/1999/xlink\"><rect height=\"50\" width=\"50\" x=\"150\" y=\"150\"/><rect height=\"50\" width=\"50\" x=\"50\" y=\"150\"/><rect height=\"50\" width=\"50\" x=\"100\" y=\"100\"/><rect height=\"50\" width=\"50\" x=\"0\" y=\"100\"/><rect height=\"50\" width=\"50\" x=\"150\" y=\"50\"/><rect height=\"50\" width=\"50\" x=\"50\" y=\"50\"/><rect height=\"50\" width=\"50\" x=\"100\" y=\"0\"/><rect fill=\"red\" height=\"50\" width=\"50\" x=\"0\" y=\"0\"/></svg>"
      ],
      "text/plain": [
       "<IPython.core.display.SVG object>"
      ]
     },
     "execution_count": 21,
     "metadata": {},
     "output_type": "execute_result"
    }
   ],
   "source": [
    "def show(dibu_prog):\n",
    "    output = parse(dibu_prog)\n",
    "    pretty_xml = xmlParse(output).toprettyxml()\n",
    "    print(pretty_xml)\n",
    "    return SVG(output)\n",
    "\n",
    "show('''\n",
    "\n",
    "size height=200, width=200\n",
    "\n",
    "rectangle upper_left=(0,0), size=(50, 50), fill=\"red\"\n",
    "rectangle upper_left=(100,0), size=(50, 50)\n",
    "\n",
    "rectangle upper_left=(50,50), size=(50, 50)\n",
    "rectangle upper_left=(150,50), size=(50, 50)\n",
    "\n",
    "rectangle upper_left=(0,100), size=(50, 50)\n",
    "rectangle upper_left=(100,100), size=(50, 50)\n",
    "\n",
    "rectangle upper_left=(50,150), size=(50, 50)\n",
    "rectangle upper_left=(150,150), size=(50, 50)\n",
    "\n",
    "\n",
    "''')"
   ]
  },
  {
   "cell_type": "code",
   "execution_count": null,
   "metadata": {
    "collapsed": true
   },
   "outputs": [],
   "source": []
  },
  {
   "cell_type": "code",
   "execution_count": 22,
   "metadata": {
    "collapsed": false
   },
   "outputs": [
    {
     "name": "stdout",
     "output_type": "stream",
     "text": [
      "<?xml version=\"1.0\" ?>\n",
      "<svg baseProfile=\"full\" height=\"100\" version=\"1.1\" width=\"100\" xmlns=\"http://www.w3.org/2000/svg\" xmlns:ev=\"http://www.w3.org/2001/xml-events\" xmlns:xlink=\"http://www.w3.org/1999/xlink\">\n",
      "\t<circle cx=\"50\" cy=\"50\" fill=\"black\" radius=\"25\"/>\n",
      "\t<circle cx=\"50\" cy=\"50\" fill=\"red\" radius=\"50\"/>\n",
      "</svg>\n",
      "\n"
     ]
    },
    {
     "data": {
      "image/svg+xml": [
       "<svg baseProfile=\"full\" height=\"100\" version=\"1.1\" width=\"100\" xmlns=\"http://www.w3.org/2000/svg\" xmlns:ev=\"http://www.w3.org/2001/xml-events\" xmlns:xlink=\"http://www.w3.org/1999/xlink\"><circle cx=\"50\" cy=\"50\" fill=\"black\" radius=\"25\"/><circle cx=\"50\" cy=\"50\" fill=\"red\" radius=\"50\"/></svg>"
      ],
      "text/plain": [
       "<IPython.core.display.SVG object>"
      ]
     },
     "execution_count": 22,
     "metadata": {},
     "output_type": "execute_result"
    }
   ],
   "source": [
    "show('''\n",
    "    size height=100, width=100\n",
    "    circle center=(50, 50), radius=50, fill=\"red\"\n",
    "    circle center=(50, 50), radius=25, fill=\"black\"\n",
    "''')"
   ]
  },
  {
   "cell_type": "code",
   "execution_count": 23,
   "metadata": {
    "collapsed": false
   },
   "outputs": [
    {
     "name": "stdout",
     "output_type": "stream",
     "text": [
      "<?xml version=\"1.0\" ?>\n",
      "<svg baseProfile=\"full\" height=\"200\" version=\"1.1\" width=\"200\" xmlns=\"http://www.w3.org/2000/svg\" xmlns:ev=\"http://www.w3.org/2001/xml-events\" xmlns:xlink=\"http://www.w3.org/1999/xlink\">\n",
      "\t<polygon points=\"200,0 150,50 100,0 \" style=\"stroke: black; stroke-width: 3; fill: none;\"/>\n",
      "\t<polygon points=\"200,100 150,50 200,0 \" style=\"stroke: black; stroke-width: 3; fill: none;\"/>\n",
      "\t<polygon points=\"200,200 150,150 200,100 \" style=\"stroke: black; stroke-width: 3; fill: none;\"/>\n",
      "\t<polygon points=\"100,200 150,150 200,200 \" style=\"stroke: black; stroke-width: 3; fill: none;\"/>\n",
      "\t<polygon points=\"0,200 50,150 100,200 \" style=\"stroke: black; stroke-width: 3; fill: none;\"/>\n",
      "\t<polygon points=\"0,100 50,150 0,200 \" style=\"stroke: black; stroke-width: 3; fill: none;\"/>\n",
      "\t<polygon points=\"0,0 50,50 100,0 \" style=\"stroke: black; stroke-width: 3; fill: none;\"/>\n",
      "\t<polygon points=\"0,0 50,50 0,100 \" style=\"stroke: black; stroke-width: 3; fill: none;\"/>\n",
      "\t<rect fill=\"yellow\" height=\"200\" width=\"200\" x=\"0\" y=\"0\"/>\n",
      "</svg>\n",
      "\n"
     ]
    },
    {
     "data": {
      "image/svg+xml": [
       "<svg baseProfile=\"full\" height=\"200\" version=\"1.1\" width=\"200\" xmlns=\"http://www.w3.org/2000/svg\" xmlns:ev=\"http://www.w3.org/2001/xml-events\" xmlns:xlink=\"http://www.w3.org/1999/xlink\"><polygon points=\"200,0 150,50 100,0 \" style=\"stroke: black; stroke-width: 3; fill: none;\"/><polygon points=\"200,100 150,50 200,0 \" style=\"stroke: black; stroke-width: 3; fill: none;\"/><polygon points=\"200,200 150,150 200,100 \" style=\"stroke: black; stroke-width: 3; fill: none;\"/><polygon points=\"100,200 150,150 200,200 \" style=\"stroke: black; stroke-width: 3; fill: none;\"/><polygon points=\"0,200 50,150 100,200 \" style=\"stroke: black; stroke-width: 3; fill: none;\"/><polygon points=\"0,100 50,150 0,200 \" style=\"stroke: black; stroke-width: 3; fill: none;\"/><polygon points=\"0,0 50,50 100,0 \" style=\"stroke: black; stroke-width: 3; fill: none;\"/><polygon points=\"0,0 50,50 0,100 \" style=\"stroke: black; stroke-width: 3; fill: none;\"/><rect fill=\"yellow\" height=\"200\" width=\"200\" x=\"0\" y=\"0\"/></svg>"
      ],
      "text/plain": [
       "<IPython.core.display.SVG object>"
      ]
     },
     "execution_count": 23,
     "metadata": {},
     "output_type": "execute_result"
    }
   ],
   "source": [
    "show('''\n",
    "    rectangle upper_left=(0,0), size=(200, 200), fill=\"yellow\"\n",
    "    polygon points=[(0,0), (50, 50), (0, 100)], style=\"stroke: black; stroke-width: 3; fill: none;\" \n",
    "    polygon points=[(0,0), (50, 50), (100, 0)], style=\"stroke: black; stroke-width: 3; fill: none;\" \n",
    "    polygon points=[(0, 100), (50, 150), (0, 200)], style=\"stroke: black; stroke-width: 3; fill: none;\" \n",
    "    polygon points=[(0, 200), (50, 150), (100, 200)], style=\"stroke: black; stroke-width: 3; fill: none;\" \n",
    "    polygon points=[(100, 200), (150, 150), (200, 200)], style=\"stroke: black; stroke-width: 3; fill: none;\"   \n",
    "    polygon points=[(200, 200), (150, 150), (200, 100)], style=\"stroke: black; stroke-width: 3; fill: none;\"\n",
    "    polygon points=[(200, 100), (150, 50), (200, 0)], style=\"stroke: black; stroke-width: 3; fill: none;\"\n",
    "    \n",
    "    polygon points=[(200, 0), (150, 50), (100, 0)], style=\"stroke: black; stroke-width: 3; fill: none;\"\n",
    "''')"
   ]
  },
  {
   "cell_type": "code",
   "execution_count": null,
   "metadata": {
    "collapsed": true
   },
   "outputs": [],
   "source": []
  },
  {
   "cell_type": "code",
   "execution_count": null,
   "metadata": {
    "collapsed": true
   },
   "outputs": [],
   "source": []
  }
 ],
 "metadata": {
  "kernelspec": {
   "display_name": "Python 2",
   "language": "python",
   "name": "python2"
  },
  "language_info": {
   "codemirror_mode": {
    "name": "ipython",
    "version": 2
   },
   "file_extension": ".py",
   "mimetype": "text/x-python",
   "name": "python",
   "nbconvert_exporter": "python",
   "pygments_lexer": "ipython2",
   "version": "2.7.6"
  }
 },
 "nbformat": 4,
 "nbformat_minor": 0
}
